{
  "nbformat": 4,
  "nbformat_minor": 0,
  "metadata": {
    "colab": {
      "provenance": [],
      "authorship_tag": "ABX9TyPudruEZOpcQIzgFcoRCH58",
      "include_colab_link": true
    },
    "kernelspec": {
      "name": "python3",
      "display_name": "Python 3"
    },
    "language_info": {
      "name": "python"
    }
  },
  "cells": [
    {
      "cell_type": "markdown",
      "metadata": {
        "id": "view-in-github",
        "colab_type": "text"
      },
      "source": [
        "<a href=\"https://colab.research.google.com/github/zekeriyaydin/istdsa-ds-bootcamp/blob/main/Zekeriya_Ayd%C4%B1n_Pandas_Projectdeneme.ipynb\" target=\"_parent\"><img src=\"https://colab.research.google.com/assets/colab-badge.svg\" alt=\"Open In Colab\"/></a>"
      ]
    },
    {
      "cell_type": "code",
      "execution_count": null,
      "metadata": {
        "id": "AUZxGNDNnjoJ"
      },
      "outputs": [],
      "source": [
        "import numpy as np\n",
        "import pandas as pd\n",
        "import matplotlib as plot"
      ]
    },
    {
      "cell_type": "markdown",
      "source": [],
      "metadata": {
        "id": "oHxsA8Sl5cK9"
      }
    },
    {
      "cell_type": "code",
      "source": [
        "df = pd.read_csv('https://bit.ly/2JRmGC2')\n",
        "df.info()"
      ],
      "metadata": {
        "id": "56awTaIxoPvS"
      },
      "execution_count": null,
      "outputs": []
    },
    {
      "cell_type": "code",
      "source": [
        "df.head(10)"
      ],
      "metadata": {
        "id": "oHSLI7hDpITx"
      },
      "execution_count": null,
      "outputs": []
    },
    {
      "cell_type": "code",
      "source": [
        "df['calories'].unique()"
      ],
      "metadata": {
        "id": "1KP7UuulpU4Y"
      },
      "execution_count": null,
      "outputs": []
    },
    {
      "cell_type": "code",
      "source": [
        "print('Mean of Sugars:', df['sugars'].mean())"
      ],
      "metadata": {
        "id": "w8x5qQgWp0Qe"
      },
      "execution_count": null,
      "outputs": []
    },
    {
      "cell_type": "code",
      "source": [
        "df[df.calories > 100]"
      ],
      "metadata": {
        "id": "AydYSS4vqvWt"
      },
      "execution_count": null,
      "outputs": []
    },
    {
      "cell_type": "code",
      "source": [
        "df.isnull().sum()\n"
      ],
      "metadata": {
        "id": "GR1uO-a0sAYl"
      },
      "execution_count": null,
      "outputs": []
    },
    {
      "cell_type": "code",
      "source": [
        "# @title\n",
        "def get_vitamin_level(vitamins):\n",
        "  if vitamins > 99:\n",
        "    return \"high\"\n",
        "  elif vitamins > 24:\n",
        "    return \"medium\"\n",
        "  else:\n",
        "    return \"low\"\n",
        "\n",
        "df.vitamins.apply(get_vitamin_level)"
      ],
      "metadata": {
        "id": "aSwNucFbtLqr",
        "collapsed": true
      },
      "execution_count": null,
      "outputs": []
    },
    {
      "source": [
        "!pip install ydata-profiling\n",
        "from ydata_profiling import ProfileReport\n",
        "profile = ProfileReport(df, title=\"Veri Analizi Raporu\")\n",
        "profile"
      ],
      "cell_type": "code",
      "metadata": {
        "id": "IXaWY-gxTVjx"
      },
      "execution_count": null,
      "outputs": []
    }
  ]
}